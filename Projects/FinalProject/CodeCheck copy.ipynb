{
 "cells": [
  {
   "cell_type": "markdown",
   "id": "7e3c6d72",
   "metadata": {},
   "source": [
    "## Name : Ezekiel Dong\n",
    "## Topic : MW+M31 Stellar Major Merger Remnant: Stellar disk particle distribution/morphology.\n",
    "Question: What is the distribution of stellar particles from M31 vs the MW? Are the profiles different?\n",
    "For this topic, I intend to make a plot that plots the Stellar density profile and sersic profile\n",
    "of the merger remnant as a function of radius. For this plot, lab 6 provides \n",
    "a lot of guidance, but for this research project the mass profile and stellar \n",
    "density profile needs to be computed in shells rather than the whole bulge. "
   ]
  },
  {
   "cell_type": "code",
   "execution_count": 52,
   "id": "0013a4f8",
   "metadata": {},
   "outputs": [],
   "source": [
    "# Load Modules\n",
    "import numpy as np\n",
    "import astropy.units as u\n",
    "\n",
    "# import plotting modules\n",
    "import matplotlib.pyplot as plt\n",
    "import matplotlib\n",
    "%matplotlib inline\n",
    "\n",
    "# my modules\n",
    "from ReadFile import Read\n",
    "from MassProfile import MassProfile\n",
    "from GalaxyMass import ComponentMass"
   ]
  },
  {
   "cell_type": "code",
   "execution_count": 53,
   "id": "d0ec7daf",
   "metadata": {},
   "outputs": [],
   "source": [
    "class CenterOfMass:\n",
    "# Class to define COM position and velocity properties of a given galaxy \n",
    "# and simulation snapshot\n",
    "\n",
    "    def __init__(self, filename, ptype):\n",
    "        ''' Class to calculate the 6-D phase-space position of a galaxy's center of mass using\n",
    "        a specified particle type. \n",
    "            \n",
    "            PARAMETERS\n",
    "            ----------\n",
    "            filename : `str`\n",
    "                snapshot file\n",
    "            ptype : `int; 1, 2, or 3`\n",
    "                particle type to use for COM calculations\n",
    "        '''\n",
    "     \n",
    "        # read data in the given file using Read\n",
    "        self.time, self.total, self.data = Read(filename)                                                                                             \n",
    "\n",
    "        #create an array to store indexes of particles of desired Ptype                                \n",
    "        self.index = np.where(self.data['type'] == ptype)\n",
    "\n",
    "        # store the mass, positions, velocities of only the particles of the given type\n",
    "        # the following only gives the example of storing the mass\n",
    "        self.m = self.data['m'][self.index]\n",
    "        # write your own code to complete this for positions and velocities\n",
    "        self.x = self.data['x'][self.index]\n",
    "        self.y = self.data['y'][self.index]\n",
    "        self.z = self.data['z'][self.index]\n",
    "        self.vx = self.data['vx'][self.index]\n",
    "        self.vy = self.data['vy'][self.index]\n",
    "        self.vz = self.data['vz'][self.index]\n",
    "\n",
    "\n",
    "    def COMdefine(self,a,b,c,m):\n",
    "        ''' Method to compute the COM of a generic vector quantity by direct weighted averaging.\n",
    "        \n",
    "        PARAMETERS\n",
    "        ----------\n",
    "        a : `float or np.ndarray of floats`\n",
    "            first vector component\n",
    "        b : `float or np.ndarray of floats`\n",
    "            second vector component\n",
    "        c : `float or np.ndarray of floats`\n",
    "            third vector component\n",
    "        m : `float or np.ndarray of floats`\n",
    "            particle masses\n",
    "        \n",
    "        RETURNS\n",
    "        -------\n",
    "        a_com : `float`\n",
    "            first component on the COM vector\n",
    "        b_com : `float`\n",
    "            second component on the COM vector\n",
    "        c_com : `float`\n",
    "            third component on the COM vector\n",
    "        '''\n",
    "        # write your own code to compute the generic COM \n",
    "        #using Eq. 1 in the homework instructions\n",
    "        # xcomponent Center of mass\n",
    "        a_com = np.sum(a*m)/np.sum(m)\n",
    "        # ycomponent Center of mass\n",
    "        b_com = np.sum(b*m)/np.sum(m)\n",
    "        # zcomponent Center of mass\n",
    "        c_com = np.sum(c*m)/np.sum(m)\n",
    "        \n",
    "        # return the 3 components separately\n",
    "        return a_com, b_com, c_com\n",
    "    \n",
    "    \n",
    "    def COM_P(self, delta):\n",
    "        '''Method to compute the position of the center of mass of the galaxy \n",
    "        using the shrinking-sphere method.\n",
    "\n",
    "        PARAMETERS\n",
    "        ----------\n",
    "        delta : `float`\n",
    "            error tolerance in kpc. \n",
    "        \n",
    "        RETURNS\n",
    "        ----------\n",
    "        p_COM : `np.ndarray of astropy.Quantity'\n",
    "            3-D position of the center of mass in kpc\n",
    "        '''                                                                     \n",
    "\n",
    "        # Center of Mass Position                                                                                      \n",
    "        ###########################                                                                                    \n",
    "\n",
    "        # Try a first guess at the COM position by calling COMdefine                                                   \n",
    "        x_COM, y_COM, z_COM = self.COMdefine(self.x, self.y, self.z, self.m)\n",
    "        # compute the magnitude of the COM position vector.\n",
    "        # write your own code below\n",
    "        r_COM = np.sqrt(x_COM**2 + y_COM**2 + z_COM**2)\n",
    "\n",
    "\n",
    "        # iterative process to determine the center of mass                                                            \n",
    "\n",
    "        # change reference frame to COM frame                                                                          \n",
    "        # compute the difference between particle coordinates                                                          \n",
    "        # and the first guess at COM position\n",
    "        # write your own code below\n",
    "        x_new = self.x - x_COM\n",
    "        y_new = self.y - y_COM\n",
    "        z_new = self.z - z_COM\n",
    "        r_new = np.sqrt(x_new**2.0 + y_new**2.0 +z_new**2.0)\n",
    "\n",
    "        # find the max 3D distance of all particles from the guessed COM                                               \n",
    "        # will re-start at half that radius (reduced radius)                                                           \n",
    "        r_max = max(r_new)/2.0\n",
    "        \n",
    "        # pick an initial value for the change in COM position                                                      \n",
    "        # between the first guess above and the new one computed from half that volume\n",
    "        # it should be larger than the input tolerance (delta) initially\n",
    "        change = 1000.0\n",
    "\n",
    "        # start iterative process to determine center of mass position                                                 \n",
    "        # delta is the tolerance for the difference in the old COM and the new one.    \n",
    "        \n",
    "        while (change > delta):\n",
    "            # select all particles within the reduced radius (starting from original x,y,z, m)\n",
    "            # write your own code below (hints, use np.where)\n",
    "            index2 = np.where(r_new < r_max)\n",
    "            x2 = self.x[index2]\n",
    "            y2 = self.y[index2]\n",
    "            z2 = self.z[index2]\n",
    "            m2 = self.m[index2]\n",
    "          \n",
    "\n",
    "            # Refined COM position:                                                                                    \n",
    "            # compute the center of mass position using                                                                \n",
    "            # the particles in the reduced radius\n",
    "            # write your own code below\n",
    "            x_COM2, y_COM2, z_COM2 = self.COMdefine(x2,y2,z2,m2)\n",
    "            \n",
    "            # compute the new 3D COM position\n",
    "            # write your own code below\n",
    "            r_COM2 = np.sqrt(x_COM2**2 + y_COM2**2 + z_COM2**2) \n",
    "\n",
    "            # determine the difference between the previous center of mass position                                    \n",
    "            # and the new one.                                                                                         \n",
    "            change = np.abs(r_COM - r_COM2)\n",
    "            # uncomment the following line if you want to check this                                                                                               \n",
    "            # print (\"CHANGE = \", CHANGE)                                                                                     \n",
    "\n",
    "            # Before loop continues, reset : r_max, particle separations and COM                                        \n",
    "\n",
    "            # reduce the volume by a factor of 2 again                                                                 \n",
    "            r_max /= 2.0\n",
    "            # check this.                                                                                              \n",
    "            #print (\"maxR\", r_max)                                                                                      \n",
    "\n",
    "            # Change the frame of reference to the newly computed COM.                                                 \n",
    "            # subtract the new COM\n",
    "            # write your own code below\n",
    "            x_new = self.x - x_COM2\n",
    "            y_new = self.y - y_COM2\n",
    "            z_new = self.z - z_COM2\n",
    "            r_new = np.sqrt(x_new**2 + y_new**2 + z_new**2)\n",
    "          \n",
    "\n",
    "            # set the center of mass positions to the refined values                                                   \n",
    "            x_COM = x_COM2\n",
    "            y_COM = y_COM2\n",
    "            z_COM = z_COM2\n",
    "            r_COM = r_COM2\n",
    "\n",
    "            # create an array  to store the COM position                                                                                                                                                       \n",
    "            p_COM = np.array([x_COM, y_COM, z_COM])\n",
    "\n",
    "        # set the correct units using astropy and round all values\n",
    "        # and then return the COM positon vector\n",
    "        # write your own code below\n",
    "        return np.around(p_COM, 2)*u.kpc\n",
    "        \n",
    "        \n",
    "    def COM_V(self, x_COM, y_COM, z_COM):\n",
    "        ''' Method to compute the center of mass velocity based on the center of mass\n",
    "        position.\n",
    "\n",
    "        PARAMETERS\n",
    "        ----------\n",
    "        x_COM : 'astropy quantity'\n",
    "            The x component of the center of mass in kpc\n",
    "        y_COM : 'astropy quantity'\n",
    "            The y component of the center of mass in kpc\n",
    "        z_COM : 'astropy quantity'\n",
    "            The z component of the center of mass in kpc\n",
    "            \n",
    "        RETURNS\n",
    "        -------\n",
    "        v_COM : `np.ndarray of astropy.Quantity'\n",
    "            3-D velocity of the center of mass in km/s\n",
    "        '''\n",
    "        \n",
    "        # the max distance from the center that we will use to determine \n",
    "        #the center of mass velocity                   \n",
    "        rv_max = 15.0*u.kpc\n",
    "\n",
    "        # determine the position of all particles \n",
    "        # relative to the center of mass position (x_COM, y_COM, z_COM)\n",
    "        # write your own code below\n",
    "        xV = self.x[:]*u.kpc - x_COM\n",
    "        yV = self.y[:]*u.kpc - y_COM\n",
    "        zV = self.z[:]*u.kpc - z_COM\n",
    "        rV = np.sqrt(xV**2 + yV**2 + zV**2)\n",
    "        \n",
    "        # determine the index for those particles within the max radius\n",
    "        # write your own code below\n",
    "        indexV = np.where(rV < rv_max)\n",
    "        \n",
    "        # determine the velocity and mass of those particles within the mas radius\n",
    "        # write your own code below\n",
    "        vx_new = self.vx[indexV]\n",
    "        vy_new = self.vy[indexV]\n",
    "        vz_new = self.vz[indexV]\n",
    "        m_new =  self.m[indexV]\n",
    "       \n",
    "        \n",
    "        # compute the center of mass velocity using those particles\n",
    "        # write your own code below\n",
    "        vx_COM, vy_COM, vz_COM =   self.COMdefine(vx_new,vy_new,vz_new, m_new)\n",
    "        \n",
    "        # create an array to store the COM velocity\n",
    "        # write your own code below\n",
    "        v_COM = np.array([vx_COM,vy_COM,vz_COM])\n",
    "\n",
    "        # return the COM vector\n",
    "        # set the correct units using astropy\n",
    "        # round all values\n",
    "        return np.round(v_COM, 2)*u.km/u.s"
   ]
  },
  {
   "cell_type": "code",
   "execution_count": 54,
   "id": "648c12f6",
   "metadata": {},
   "outputs": [],
   "source": [
    "def sersicE(r, re, n, mtot):\n",
    "    \"\"\" Function that computes the Sersic Profile for an Elliptical \n",
    "    System, assuming M/L ~ 1\n",
    "    PARMETERS\n",
    "    ---------\n",
    "        r: `float`\n",
    "            Distance from the center of the galaxy (kpc)\n",
    "        re: `float`\n",
    "            The Effective radius (2D radius that contains \n",
    "            half the light) (kpc)\n",
    "        n:  `float`\n",
    "            sersic index\n",
    "        mtot: `float`\n",
    "            the total stellar mass (Msun)\n",
    "\n",
    "    RETURNS\n",
    "    -------\n",
    "        I: `array of floats`\n",
    "            the surface brightness profile of the elliptical in Lsun/kpc^2\n",
    "\n",
    "    \"\"\"\n",
    "\n",
    "    # We are assuming M/L = 1, so the total luminosity is:\n",
    "    lum = mtot\n",
    "    \n",
    "    # the effective surface brightness is\n",
    "    Ie = lum/7.2/np.pi/re**2\n",
    "    \n",
    "    # Break down the equation \n",
    "    a = (r/re)**(1.0/n)\n",
    "    b = -7.67*(a-1)\n",
    "    \n",
    "    # The surface brightness\n",
    "    #I = Ie*np.exp(-7.67*((r/re)**(1.0/n)-1.0))\n",
    "    I = Ie*np.exp(b)\n",
    "    \n",
    "    return I\n",
    "    "
   ]
  },
  {
   "cell_type": "code",
   "execution_count": 39,
   "id": "84cbb28d",
   "metadata": {},
   "outputs": [
    {
     "data": {
      "image/png": "[encoded data removed]",
      "text/plain": [
       "<Figure size 648x576 with 1 Axes>"
      ]
     },
     "metadata": {
      "needs_background": "light"
     },
     "output_type": "display_data"
    }
   ],
   "source": []
  },
  {
   "cell_type": "code",
   "execution_count": 18,
   "id": "23416f34",
   "metadata": {},
   "outputs": [
    {
     "name": "stdout",
     "output_type": "stream",
     "text": [
      "-9.135999999999967 -1.4250000000000682 4.2760000000000105\n"
     ]
    }
   ],
   "source": [
    "# Create a center of mass object \n",
    "# This lets us store the x, y, z, bulge particles \n",
    "M31_COM = CenterOfMass(\"M31_000.txt\", 3)\n",
    "M31_COM_p = M31_COM.COM_P(0.1)\n",
    "x = M31_COM.x-M31_COM_p[0].value\n",
    "y = M31_COM.y-M31_COM_p[1].value\n",
    "z = M31_COM.z-M31_COM_p[2].value\n",
    "m = M31_COM.m\n",
    "\n",
    "print(x[0],y[0],z[0])\n"
   ]
  },
  {
   "cell_type": "code",
   "execution_count": 46,
   "id": "ae629683",
   "metadata": {},
   "outputs": [
    {
     "name": "stdout",
     "output_type": "stream",
     "text": [
      "-0.87222 -1.34268 -0.09746999999999995\n"
     ]
    }
   ],
   "source": [
    "MW_COM = CenterOfMass(\"MW_000.txt\", 3)\n",
    "MW_COM_p = MW_COM.COM_P(0.1)\n",
    "x = MW_COM.x-MW_COM_p[0].value\n",
    "y = MW_COM.y-MW_COM_p[1].value\n",
    "z = MW_COM.z-MW_COM_p[2].value\n",
    "m = MW_COM.m\n",
    "print(x[0],y[0],z[0])\n"
   ]
  },
  {
   "cell_type": "code",
   "execution_count": 56,
   "id": "009e0355",
   "metadata": {},
   "outputs": [
    {
     "name": "stderr",
     "output_type": "stream",
     "text": [
      "<ipython-input-53-3a3c655406b4>:61: RuntimeWarning: invalid value encountered in double_scalars\n",
      "  a_com = np.sum(a*m)/np.sum(m)\n",
      "<ipython-input-53-3a3c655406b4>:63: RuntimeWarning: invalid value encountered in double_scalars\n",
      "  b_com = np.sum(b*m)/np.sum(m)\n",
      "<ipython-input-53-3a3c655406b4>:65: RuntimeWarning: invalid value encountered in double_scalars\n",
      "  c_com = np.sum(c*m)/np.sum(m)\n"
     ]
    },
    {
     "ename": "ValueError",
     "evalue": "max() arg is an empty sequence",
     "output_type": "error",
     "traceback": [
      "\u001b[0;31m---------------------------------------------------------------------------\u001b[0m",
      "\u001b[0;31mValueError\u001b[0m                                Traceback (most recent call last)",
      "\u001b[0;32m<ipython-input-56-579e4bab40ee>\u001b[0m in \u001b[0;36m<module>\u001b[0;34m\u001b[0m\n\u001b[1;32m      1\u001b[0m \u001b[0mM33_COM\u001b[0m \u001b[0;34m=\u001b[0m \u001b[0mCenterOfMass\u001b[0m\u001b[0;34m(\u001b[0m\u001b[0;34m\"M33_000.txt\"\u001b[0m\u001b[0;34m,\u001b[0m \u001b[0;36m3\u001b[0m\u001b[0;34m)\u001b[0m\u001b[0;34m\u001b[0m\u001b[0;34m\u001b[0m\u001b[0m\n\u001b[0;32m----> 2\u001b[0;31m \u001b[0mM33_COM_p\u001b[0m \u001b[0;34m=\u001b[0m \u001b[0mM33_COM\u001b[0m\u001b[0;34m.\u001b[0m\u001b[0mCOM_P\u001b[0m\u001b[0;34m(\u001b[0m\u001b[0;36m0.1\u001b[0m\u001b[0;34m)\u001b[0m\u001b[0;34m\u001b[0m\u001b[0;34m\u001b[0m\u001b[0m\n\u001b[0m\u001b[1;32m      3\u001b[0m \u001b[0mx\u001b[0m \u001b[0;34m=\u001b[0m \u001b[0mM33_COM\u001b[0m\u001b[0;34m.\u001b[0m\u001b[0mx\u001b[0m\u001b[0;34m-\u001b[0m\u001b[0mM33_COM_p\u001b[0m\u001b[0;34m[\u001b[0m\u001b[0;36m0\u001b[0m\u001b[0;34m]\u001b[0m\u001b[0;34m.\u001b[0m\u001b[0mvalue\u001b[0m\u001b[0;34m\u001b[0m\u001b[0;34m\u001b[0m\u001b[0m\n\u001b[1;32m      4\u001b[0m \u001b[0my\u001b[0m \u001b[0;34m=\u001b[0m \u001b[0mM33_COM\u001b[0m\u001b[0;34m.\u001b[0m\u001b[0my\u001b[0m\u001b[0;34m-\u001b[0m\u001b[0mM33_COM_p\u001b[0m\u001b[0;34m[\u001b[0m\u001b[0;36m1\u001b[0m\u001b[0;34m]\u001b[0m\u001b[0;34m.\u001b[0m\u001b[0mvalue\u001b[0m\u001b[0;34m\u001b[0m\u001b[0;34m\u001b[0m\u001b[0m\n\u001b[1;32m      5\u001b[0m \u001b[0mz\u001b[0m \u001b[0;34m=\u001b[0m \u001b[0mM33_COM\u001b[0m\u001b[0;34m.\u001b[0m\u001b[0mz\u001b[0m\u001b[0;34m-\u001b[0m\u001b[0mM33_COM_p\u001b[0m\u001b[0;34m[\u001b[0m\u001b[0;36m2\u001b[0m\u001b[0;34m]\u001b[0m\u001b[0;34m.\u001b[0m\u001b[0mvalue\u001b[0m\u001b[0;34m\u001b[0m\u001b[0;34m\u001b[0m\u001b[0m\n",
      "\u001b[0;32m<ipython-input-53-3a3c655406b4>\u001b[0m in \u001b[0;36mCOM_P\u001b[0;34m(self, delta)\u001b[0m\n\u001b[1;32m    107\u001b[0m         \u001b[0;31m# find the max 3D distance of all particles from the guessed COM\u001b[0m\u001b[0;34m\u001b[0m\u001b[0;34m\u001b[0m\u001b[0;34m\u001b[0m\u001b[0m\n\u001b[1;32m    108\u001b[0m         \u001b[0;31m# will re-start at half that radius (reduced radius)\u001b[0m\u001b[0;34m\u001b[0m\u001b[0;34m\u001b[0m\u001b[0;34m\u001b[0m\u001b[0m\n\u001b[0;32m--> 109\u001b[0;31m         \u001b[0mr_max\u001b[0m \u001b[0;34m=\u001b[0m \u001b[0mmax\u001b[0m\u001b[0;34m(\u001b[0m\u001b[0mr_new\u001b[0m\u001b[0;34m)\u001b[0m\u001b[0;34m/\u001b[0m\u001b[0;36m2.0\u001b[0m\u001b[0;34m\u001b[0m\u001b[0;34m\u001b[0m\u001b[0m\n\u001b[0m\u001b[1;32m    110\u001b[0m \u001b[0;34m\u001b[0m\u001b[0m\n\u001b[1;32m    111\u001b[0m         \u001b[0;31m# pick an initial value for the change in COM position\u001b[0m\u001b[0;34m\u001b[0m\u001b[0;34m\u001b[0m\u001b[0;34m\u001b[0m\u001b[0m\n",
      "\u001b[0;31mValueError\u001b[0m: max() arg is an empty sequence"
     ]
    }
   ],
   "source": [
    "M33_COM = CenterOfMass(\"M33_000.txt\", 3)\n",
    "M33_COM_p = M33_COM.COM_P(0.1)\n",
    "x = M33_COM.x-M33_COM_p[0].value\n",
    "y = M33_COM.y-M33_COM_p[1].value\n",
    "z = M33_COM.z-M33_COM_p[2].value\n",
    "m = M33_COM.m\n",
    "\n",
    "print(x[0],y[0],z[0])"
   ]
  },
  {
   "cell_type": "code",
   "execution_count": 47,
   "id": "658f5375",
   "metadata": {},
   "outputs": [],
   "source": [
    "re_bulge = 2.0  # Example value for the effective radius (re), adjust as needed\n",
    "bulge_total = 1e10  # Example value for the total stellar mass (mtot), adjust as needed"
   ]
  },
  {
   "cell_type": "code",
   "execution_count": 48,
   "id": "235163aa",
   "metadata": {},
   "outputs": [],
   "source": [
    "# Compute the surface density profile \n",
    "\n",
    "# calculate the radial distances in cylindrical coordinates (and theta, too)\n",
    "cyl_r_mag = np.sqrt(x**2 + y**2) #np.sum(self.alg_r[:, :2]**2, axis=1))\n",
    "cyl_theta = np.arctan2(y,x) # self.alg_r[:, 1], self.alg_r[:, 0])\n",
    "\n",
    "radii = np.arange(0.1, 0.95 * cyl_r_mag.max(), 0.1)\n",
    "       \n",
    "# create the mask to select particles for each radius\n",
    "# np.newaxis creates a virtual axis to make tmp_r_mag 2 dimensional\n",
    "# so that all radii can be compared simultaneously\n",
    "enc_mask = cyl_r_mag[:, np.newaxis] < np.asarray(radii).flatten()\n",
    "\n",
    "# calculate the enclosed masses \n",
    "# relevant particles will be selected by enc_mask (i.e., *1)\n",
    "# outer particles will be ignored (i.e., *0)\n",
    "m_enc = np.sum(m[:, np.newaxis] * enc_mask, axis=0)\n",
    "\n",
    "# use the difference between nearby elements to get mass in each annulus\n",
    "m_annuli = np.diff(m_enc) # one element less then m_enc\n",
    "Sigma = m_annuli / (np.pi * (radii[1:]**2 - radii[:-1]**2))\n",
    "\n",
    "r_annuli = np.sqrt(radii[1:] * radii[:-1]) \n",
    "# here we choose the geometric mean"
   ]
  },
  {
   "cell_type": "code",
   "execution_count": 50,
   "id": "86485374",
   "metadata": {},
   "outputs": [
    {
     "data": {
      "image/png": "[encoded data removed]",
      "text/plain": [
       "<Figure size 648x576 with 1 Axes>"
      ]
     },
     "metadata": {
      "needs_background": "light"
     },
     "output_type": "display_data"
    }
   ],
   "source": [
    "fig, ax = plt.subplots(figsize=(9, 8))\n",
    "\n",
    "# Surface Density Profile\n",
    "ax.loglog(r_annuli, Sigma, lw=2, alpha=0.8,label='Simulated Bulge')\n",
    "\n",
    "# YOU ADD HERE: Sersic fit to the surface brightness Sersic fit\n",
    "# Sersic n = 4 - de Vaucouleurs\n",
    "plt.semilogy(r_annuli,sersicE(r_annuli,re_bulge,4,bulge_total)/1e10, color='red',\n",
    "             linestyle=\"-.\",linewidth=3, label='Sersic n=4')\n",
    "\n",
    "ax.set(xlabel=r\"$r$ [kpc]\", ylabel=r\"$\\Sigma$(disk par) [$10^{10} M_\\odot$ / kpc$^2$]\", title=\"MW Bulge\")\n",
    "\n",
    "#set axis limits\n",
    "plt.xlim(0.1,50)\n",
    "plt.ylim(1e-6,1)\n",
    "\n",
    "ax.legend(loc='best')\n",
    "fig.tight_layout()\n",
    "\n",
    "#plt.savefig('Lab6.png')"
   ]
  },
  {
   "cell_type": "code",
   "execution_count": 40,
   "id": "9135e82b",
   "metadata": {},
   "outputs": [
    {
     "name": "stderr",
     "output_type": "stream",
     "text": [
      "<ipython-input-14-3a3c655406b4>:61: RuntimeWarning: invalid value encountered in double_scalars\n",
      "  a_com = np.sum(a*m)/np.sum(m)\n",
      "<ipython-input-14-3a3c655406b4>:63: RuntimeWarning: invalid value encountered in double_scalars\n",
      "  b_com = np.sum(b*m)/np.sum(m)\n",
      "<ipython-input-14-3a3c655406b4>:65: RuntimeWarning: invalid value encountered in double_scalars\n",
      "  c_com = np.sum(c*m)/np.sum(m)\n"
     ]
    },
    {
     "ename": "ValueError",
     "evalue": "max() arg is an empty sequence",
     "output_type": "error",
     "traceback": [
      "\u001b[0;31m---------------------------------------------------------------------------\u001b[0m",
      "\u001b[0;31mValueError\u001b[0m                                Traceback (most recent call last)",
      "\u001b[0;32m<ipython-input-40-9418069ac2f4>\u001b[0m in \u001b[0;36m<module>\u001b[0;34m\u001b[0m\n\u001b[1;32m      1\u001b[0m \u001b[0;31m# M33\u001b[0m\u001b[0;34m\u001b[0m\u001b[0;34m\u001b[0m\u001b[0;34m\u001b[0m\u001b[0m\n\u001b[1;32m      2\u001b[0m \u001b[0mM33_COM\u001b[0m \u001b[0;34m=\u001b[0m \u001b[0mCenterOfMass\u001b[0m\u001b[0;34m(\u001b[0m\u001b[0;34m\"M33_000.txt\"\u001b[0m\u001b[0;34m,\u001b[0m \u001b[0;36m3\u001b[0m\u001b[0;34m)\u001b[0m\u001b[0;34m\u001b[0m\u001b[0;34m\u001b[0m\u001b[0m\n\u001b[0;32m----> 3\u001b[0;31m \u001b[0mM33_COM_p\u001b[0m \u001b[0;34m=\u001b[0m \u001b[0mM33_COM\u001b[0m\u001b[0;34m.\u001b[0m\u001b[0mCOM_P\u001b[0m\u001b[0;34m(\u001b[0m\u001b[0;36m0.1\u001b[0m\u001b[0;34m)\u001b[0m\u001b[0;34m\u001b[0m\u001b[0;34m\u001b[0m\u001b[0m\n\u001b[0m\u001b[1;32m      4\u001b[0m \u001b[0mx_M33\u001b[0m \u001b[0;34m=\u001b[0m \u001b[0mM33_COM\u001b[0m\u001b[0;34m.\u001b[0m\u001b[0mx\u001b[0m \u001b[0;34m-\u001b[0m \u001b[0mM33_COM_p\u001b[0m\u001b[0;34m[\u001b[0m\u001b[0;36m0\u001b[0m\u001b[0;34m]\u001b[0m\u001b[0;34m.\u001b[0m\u001b[0mvalue\u001b[0m\u001b[0;34m\u001b[0m\u001b[0;34m\u001b[0m\u001b[0m\n\u001b[1;32m      5\u001b[0m \u001b[0my_M33\u001b[0m \u001b[0;34m=\u001b[0m \u001b[0mM33_COM\u001b[0m\u001b[0;34m.\u001b[0m\u001b[0my\u001b[0m \u001b[0;34m-\u001b[0m \u001b[0mM33_COM_p\u001b[0m\u001b[0;34m[\u001b[0m\u001b[0;36m1\u001b[0m\u001b[0;34m]\u001b[0m\u001b[0;34m.\u001b[0m\u001b[0mvalue\u001b[0m\u001b[0;34m\u001b[0m\u001b[0;34m\u001b[0m\u001b[0m\n",
      "\u001b[0;32m<ipython-input-14-3a3c655406b4>\u001b[0m in \u001b[0;36mCOM_P\u001b[0;34m(self, delta)\u001b[0m\n\u001b[1;32m    107\u001b[0m         \u001b[0;31m# find the max 3D distance of all particles from the guessed COM\u001b[0m\u001b[0;34m\u001b[0m\u001b[0;34m\u001b[0m\u001b[0;34m\u001b[0m\u001b[0m\n\u001b[1;32m    108\u001b[0m         \u001b[0;31m# will re-start at half that radius (reduced radius)\u001b[0m\u001b[0;34m\u001b[0m\u001b[0;34m\u001b[0m\u001b[0;34m\u001b[0m\u001b[0m\n\u001b[0;32m--> 109\u001b[0;31m         \u001b[0mr_max\u001b[0m \u001b[0;34m=\u001b[0m \u001b[0mmax\u001b[0m\u001b[0;34m(\u001b[0m\u001b[0mr_new\u001b[0m\u001b[0;34m)\u001b[0m\u001b[0;34m/\u001b[0m\u001b[0;36m2.0\u001b[0m\u001b[0;34m\u001b[0m\u001b[0;34m\u001b[0m\u001b[0m\n\u001b[0m\u001b[1;32m    110\u001b[0m \u001b[0;34m\u001b[0m\u001b[0m\n\u001b[1;32m    111\u001b[0m         \u001b[0;31m# pick an initial value for the change in COM position\u001b[0m\u001b[0;34m\u001b[0m\u001b[0;34m\u001b[0m\u001b[0;34m\u001b[0m\u001b[0m\n",
      "\u001b[0;31mValueError\u001b[0m: max() arg is an empty sequence"
     ]
    }
   ],
   "source": []
  },
  {
   "cell_type": "code",
   "execution_count": 41,
   "id": "fa386028",
   "metadata": {},
   "outputs": [
    {
     "ename": "SyntaxError",
     "evalue": "EOL while scanning string literal (<ipython-input-41-4756263f3a4f>, line 7)",
     "output_type": "error",
     "traceback": [
      "\u001b[0;36m  File \u001b[0;32m\"<ipython-input-41-4756263f3a4f>\"\u001b[0;36m, line \u001b[0;32m7\u001b[0m\n\u001b[0;31m    ax.set(xlabel=r\"$r$ [kpc]\", ylabel=r\"$\\Sigma$(disk par) [$10^{10} M_\\\u001b[0m\n\u001b[0m                                                                         ^\u001b[0m\n\u001b[0;31mSyntaxError\u001b[0m\u001b[0;31m:\u001b[0m EOL while scanning string literal\n"
     ]
    }
   ],
   "source": []
  },
  {
   "cell_type": "code",
   "execution_count": null,
   "id": "63813d26",
   "metadata": {},
   "outputs": [],
   "source": []
  },
  {
   "cell_type": "code",
   "execution_count": null,
   "id": "93d07d8c",
   "metadata": {},
   "outputs": [],
   "source": []
  },
  {
   "cell_type": "code",
   "execution_count": null,
   "id": "0a161309",
   "metadata": {},
   "outputs": [],
   "source": []
  },
  {
   "cell_type": "code",
   "execution_count": null,
   "id": "2d85f5da",
   "metadata": {},
   "outputs": [],
   "source": []
  },
  {
   "cell_type": "code",
   "execution_count": null,
   "id": "2ad6f6df",
   "metadata": {},
   "outputs": [],
   "source": []
  },
  {
   "cell_type": "code",
   "execution_count": null,
   "id": "b2682be3",
   "metadata": {},
   "outputs": [],
   "source": []
  },
  {
   "cell_type": "code",
   "execution_count": null,
   "id": "803d64f9",
   "metadata": {},
   "outputs": [],
   "source": []
  },
  {
   "cell_type": "code",
   "execution_count": null,
   "id": "eb654109",
   "metadata": {},
   "outputs": [],
   "source": []
  },
  {
   "cell_type": "code",
   "execution_count": null,
   "id": "e05ae2ef",
   "metadata": {},
   "outputs": [],
   "source": []
  },
  {
   "cell_type": "code",
   "execution_count": null,
   "id": "79929bbd",
   "metadata": {},
   "outputs": [],
   "source": []
  },
  {
   "cell_type": "code",
   "execution_count": null,
   "id": "b167ab54",
   "metadata": {},
   "outputs": [],
   "source": [
    "snap_number_M31 = 800\n",
    "snap_number_MW = 800\n",
    "\n",
    "tm = TotalMass(snap_number_M31, snap_number_MW)\n",
    "\n",
    "ptype = 2  # Use ptype = 2 for the stellar distribution\n",
    "\n",
    "tm.plot_stellar_distribution(ptype)\n",
    "tm.plot_merger_remnant(ptype)"
   ]
  },
  {
   "cell_type": "code",
   "execution_count": null,
   "id": "9cd8f808",
   "metadata": {},
   "outputs": [],
   "source": [
    "# Your measured radius and density values\n",
    "radius_values = np.linspace(r_0, r_f, n)\n",
    "density_values = tm.Massenclosed(ptype, r_0, r_f, n)\n",
    "\n",
    "# Exclude the first element (radius = 0) to avoid divide by zero error\n",
    "radius_values_no_zero = radius_values[1:]\n",
    "density_values_no_zero = density_values[1:]\n",
    "\n",
    "# Provide initial guesses for I_e, r_e, and n\n",
    "initial_guess = [1e10, 5, 4]\n",
    "\n",
    "# Fit the Sersic profile to the data\n",
    "params_opt, params_cov = curve_fit(sersic_profile, radius_values_no_zero, density_values_no_zero, p0=initial_guess)\n",
    "\n",
    "I_e_opt, r_e_opt, n_opt = params_opt\n",
    "\n",
    "# Calculate the Sersic profile with the optimal parameters\n",
    "sersic_fit = sersic_profile(radius_values, I_e_opt, r_e_opt, n_opt)\n",
    "\n",
    "plt.plot(radius_values, density_values, label='Measured Density Profile')\n",
    "plt.plot(radius_values, sersic_fit, label='Sersic Profile Fit')\n",
    "plt.xlabel('Radius (kpc)')\n",
    "plt.ylabel('Density (M_sun / kpc^3)')\n",
    "plt.legend()\n",
    "plt.show()\n"
   ]
  },
  {
   "cell_type": "code",
   "execution_count": null,
   "id": "8f292b1f",
   "metadata": {},
   "outputs": [],
   "source": []
  }
 ],
 "metadata": {
  "kernelspec": {
   "display_name": "Python 3",
   "language": "python",
   "name": "python3"
  },
  "language_info": {
   "codemirror_mode": {
    "name": "ipython",
    "version": 3
   },
   "file_extension": ".py",
   "mimetype": "text/x-python",
   "name": "python",
   "nbconvert_exporter": "python",
   "pygments_lexer": "ipython3",
   "version": "3.8.8"
  }
 },
 "nbformat": 4,
 "nbformat_minor": 5
}
