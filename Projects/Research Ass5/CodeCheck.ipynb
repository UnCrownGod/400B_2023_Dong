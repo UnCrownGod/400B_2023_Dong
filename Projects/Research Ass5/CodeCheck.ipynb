{
 "cells": [
  {
   "cell_type": "markdown",
   "id": "7e3c6d72",
   "metadata": {},
   "source": [
    "## Name : Ezekiel Dong\n",
    "## Topic : MW+M31 Stellar Major Merger Remnant: Stellar disk particle distribution/morphology.\n",
    "Question: What is the distribution of stellar particles from M31 vs the MW? Are the profiles different?\n",
    "For this topic, I intend to make a plot that plots the Stellar density profile \n",
    "of the merger remnant as a function of radius. For this plot, lab 6 provides \n",
    "a lot of guidance, but for this research project the mass profile and stellar \n",
    "density profile needs to be computed in shells rather than the whole bulge. "
   ]
  },
  {
   "cell_type": "code",
   "execution_count": null,
   "id": "0013a4f8",
   "metadata": {},
   "outputs": [],
   "source": []
  },
  {
   "cell_type": "code",
   "execution_count": null,
   "id": "23416f34",
   "metadata": {},
   "outputs": [],
   "source": []
  }
 ],
 "metadata": {
  "kernelspec": {
   "display_name": "Python 3",
   "language": "python",
   "name": "python3"
  },
  "language_info": {
   "codemirror_mode": {
    "name": "ipython",
    "version": 3
   },
   "file_extension": ".py",
   "mimetype": "text/x-python",
   "name": "python",
   "nbconvert_exporter": "python",
   "pygments_lexer": "ipython3",
   "version": "3.8.8"
  }
 },
 "nbformat": 4,
 "nbformat_minor": 5
}
